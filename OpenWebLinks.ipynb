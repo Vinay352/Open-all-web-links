{
 "cells": [
  {
   "cell_type": "code",
   "execution_count": 2,
   "metadata": {},
   "outputs": [],
   "source": [
    "from bs4 import BeautifulSoup,SoupStrainer\n",
    "import httplib2"
   ]
  },
  {
   "cell_type": "code",
   "execution_count": 9,
   "metadata": {},
   "outputs": [
    {
     "name": "stdout",
     "output_type": "stream",
     "text": [
      "['//www.google.com/', 'https://www.google.com/support/contact/user?hl=en']\n"
     ]
    }
   ],
   "source": [
    "import pprint\n",
    "import webbrowser\n",
    "http=httplib2.Http()\n",
    "links=[]\n",
    "status,response=http.request('https://www.google.com/search?ei=s5AMXeqRDJuv9QPr2IXoCQ&q=extract+all+links+in+a+web+page+i+python&oq=extract+all+links+in+a+web+page+i+python&gs_l=psy-ab.3...177281.184055..184318...0.0..0.253.2072.2-9......0....1..gws-wiz.......0i71.4TTV057HaDU')\n",
    "for link in BeautifulSoup(response, 'html.parser', parse_only=SoupStrainer('a')):\n",
    "    if link.has_attr('href'):\n",
    "        links.append(link.get('href'))\n",
    "        webbrowser.open(link.get('href'),new=2)\n",
    "pprint.pprint(links)"
   ]
  },
  {
   "cell_type": "code",
   "execution_count": null,
   "metadata": {},
   "outputs": [],
   "source": []
  }
 ],
 "metadata": {
  "kernelspec": {
   "display_name": "Python 3",
   "language": "python",
   "name": "python3"
  }
 },
 "nbformat": 4,
 "nbformat_minor": 2
}
